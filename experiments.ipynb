{
 "cells": [
  {
   "cell_type": "code",
   "execution_count": 4,
   "metadata": {},
   "outputs": [
    {
     "name": "stdout",
     "output_type": "stream",
     "text": [
      "tensor([[0.6811, 0.7515, 0.1182],\n",
      "        [0.2599, 0.4865, 0.1422],\n",
      "        [0.3673, 0.2947, 0.2884],\n",
      "        [0.8904, 0.6384, 0.8813],\n",
      "        [0.3742, 0.8198, 0.3135]])\n"
     ]
    }
   ],
   "source": [
    "import torch\n",
    "\n",
    "x = torch.rand(5, 3)\n",
    "print(x)"
   ]
  },
  {
   "cell_type": "code",
   "execution_count": 6,
   "metadata": {},
   "outputs": [
    {
     "name": "stdout",
     "output_type": "stream",
     "text": [
      "Torch 2.2.0+cu121\n",
      "CUDA 12.1\n"
     ]
    }
   ],
   "source": [
    "print(f\"Torch {torch.__version__}\")\n",
    "print(f\"CUDA {torch.version.cuda}\")"
   ]
  },
  {
   "cell_type": "code",
   "execution_count": 7,
   "metadata": {},
   "outputs": [
    {
     "name": "stdout",
     "output_type": "stream",
     "text": [
      "True\n"
     ]
    }
   ],
   "source": [
    "print(torch.cuda.is_available())"
   ]
  },
  {
   "cell_type": "code",
   "execution_count": 8,
   "metadata": {},
   "outputs": [
    {
     "name": "stdout",
     "output_type": "stream",
     "text": [
      "Using GPU: NVIDIA RTXA6000-8Q\n"
     ]
    }
   ],
   "source": [
    "import torch \n",
    "# Check for GPU availability\n",
    "if torch.cuda.is_available(): \n",
    "    # Set device to GPU \n",
    "    torch.cuda.set_device(0) \n",
    "    device = torch.device(\"cuda\") \n",
    "    print(\"Using GPU:\", torch.cuda.get_device_name(0)) \n",
    "else: \n",
    "    # Set device to CPU \n",
    "    device = torch.device(\"cpu\") \n",
    "    print(\"Using CPU.\") \n",
    "    # Use the device for tensor operations \n",
    "    a = torch.tensor([1, 2, 3]).to(device) \n",
    "    b = torch.tensor([4, 5, 6]).to(device) \n",
    "    c = a + b \n",
    "    print(\"Result:\", c)"
   ]
  }
 ],
 "metadata": {
  "kernelspec": {
   "display_name": "vector2",
   "language": "python",
   "name": "python3"
  },
  "language_info": {
   "codemirror_mode": {
    "name": "ipython",
    "version": 3
   },
   "file_extension": ".py",
   "mimetype": "text/x-python",
   "name": "python",
   "nbconvert_exporter": "python",
   "pygments_lexer": "ipython3",
   "version": "3.12.2"
  }
 },
 "nbformat": 4,
 "nbformat_minor": 2
}
